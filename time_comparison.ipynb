{
 "cells": [
  {
   "cell_type": "code",
   "execution_count": null,
   "metadata": {
    "datalore": {
     "hide_input_from_viewers": true,
     "hide_output_from_viewers": true,
     "node_id": "sUQWFQGQZW1EJnjZkCSpJl",
     "type": "CODE"
    }
   },
   "outputs": [],
   "source": [
    "from huggingface_hub import login\n",
    "login()"
   ]
  },
  {
   "cell_type": "code",
   "execution_count": 1,
   "metadata": {
    "datalore": {
     "hide_input_from_viewers": true,
     "hide_output_from_viewers": true,
     "node_id": "JMXxWAsFaPTlhH6zQe3boY",
     "type": "CODE"
    }
   },
   "outputs": [
    {
     "name": "stdout",
     "output_type": "stream",
     "text": [
      "Available CPUs: 2\n",
      "Available GPUs: 0\n"
     ]
    }
   ],
   "source": [
    "import psutil\n",
    "import torch\n",
    "\n",
    "\n",
    "gpu_count = torch.cuda.device_count()\n",
    "cpu_count = psutil.cpu_count(logical=False)\n",
    "print(\"Available CPUs:\", cpu_count)\n",
    "print(\"Available GPUs:\", gpu_count)"
   ]
  },
  {
   "cell_type": "code",
   "execution_count": 2,
   "metadata": {
    "datalore": {
     "hide_input_from_viewers": true,
     "hide_output_from_viewers": true,
     "node_id": "NsduSkMwwIZKm94V9Hn7I5",
     "type": "CODE"
    }
   },
   "outputs": [
    {
     "name": "stdout",
     "output_type": "stream",
     "text": [
      "Samples size: 1000 examples. Taken from bigcode/the-stack, language = c-sharp. Each sample has 1000 chars.\n"
     ]
    }
   ],
   "source": [
    "SAMPLES_SIZE = 1000\n",
    "MAX_LEN = 1000\n",
    "LANGUAGE = \"c-sharp\"\n",
    "DATASET = \"bigcode/the-stack\"\n",
    "\n",
    "print(f\"Samples size: {SAMPLES_SIZE} examples. Taken from {DATASET}, language = {LANGUAGE}. Each sample has {MAX_LEN} chars.\")"
   ]
  },
  {
   "cell_type": "code",
   "execution_count": 3,
   "metadata": {
    "datalore": {
     "hide_input_from_viewers": true,
     "hide_output_from_viewers": true,
     "node_id": "Gnjtwjvmcr25Ar0UQn06lK",
     "type": "CODE"
    }
   },
   "outputs": [
    {
     "data": {
      "application/vnd.jupyter.widget-view+json": {
       "model_id": "2e1fc920c9b2417d91e8269f6415c769",
       "version_major": 2,
       "version_minor": 0
      }
     },
     "metadata": {
      "application/vnd.jupyter.widget-view+json": {
       "datalore": {
        "widget_id": "5i8ADbXWHdPRR5t14A1cTR"
       }
      }
     },
     "output_type": "display_data"
    }
   ],
   "source": [
    "from datasets import load_dataset\n",
    "\n",
    "ds = load_dataset(DATASET, data_dir=f\"data/{LANGUAGE}\", streaming=True, split=\"train\")\n",
    "\n",
    "count = 0\n",
    "samples = []\n",
    "\n",
    "for sample in ds:\n",
    "    content = sample[\"content\"]\n",
    "\n",
    "    # delete comments \n",
    "    lines = content.split('\\n')\n",
    "    filtered_text = []\n",
    "    for line in lines:\n",
    "        if not (line.strip().startswith('//') or line.strip().startswith('/*') or line.strip().startswith('*') or line.strip().startswith('#')):\n",
    "            filtered_text.append(line)\n",
    "    filtered_text = '\\n'.join(filtered_text)\n",
    "\n",
    "    if len(filtered_text) >= MAX_LEN:\n",
    "        truncated_text = filtered_text[:MAX_LEN]\n",
    "        samples.append(truncated_text)\n",
    "    else:\n",
    "        continue\n",
    "\n",
    "    count += 1\n",
    "    if count >= SAMPLES_SIZE:\n",
    "        break\n"
   ]
  },
  {
   "cell_type": "code",
   "execution_count": 4,
   "metadata": {
    "datalore": {
     "hide_input_from_viewers": true,
     "hide_output_from_viewers": true,
     "node_id": "f8NpknTdge2xKqAi6g6F8N",
     "type": "CODE"
    }
   },
   "outputs": [],
   "source": [
    "model_name = 'intfloat/e5-small-v2'"
   ]
  },
  {
   "cell_type": "code",
   "execution_count": 5,
   "metadata": {
    "datalore": {
     "hide_input_from_viewers": true,
     "hide_output_from_viewers": true,
     "node_id": "WktTYrfLVtf7yv15BcyDC5",
     "type": "CODE"
    }
   },
   "outputs": [
    {
     "data": {
      "application/vnd.jupyter.widget-view+json": {
       "model_id": "ec4f549725824dbb9362fa11e13d2509",
       "version_major": 2,
       "version_minor": 0
      }
     },
     "metadata": {
      "application/vnd.jupyter.widget-view+json": {
       "datalore": {
        "widget_id": "EZzIJ46z7pU3Qn5iamArdB"
       }
      }
     },
     "output_type": "display_data"
    },
    {
     "data": {
      "application/vnd.jupyter.widget-view+json": {
       "model_id": "d23e8f3ba73742dd86a65be5541b884d",
       "version_major": 2,
       "version_minor": 0
      }
     },
     "metadata": {
      "application/vnd.jupyter.widget-view+json": {
       "datalore": {
        "widget_id": "mMPCJL95tTkZm4enu9xTVV"
       }
      }
     },
     "output_type": "display_data"
    },
    {
     "data": {
      "application/vnd.jupyter.widget-view+json": {
       "model_id": "48c114efac1347778abafa9d61b26183",
       "version_major": 2,
       "version_minor": 0
      }
     },
     "metadata": {
      "application/vnd.jupyter.widget-view+json": {
       "datalore": {
        "widget_id": "x66OAVoRyji7SNXrYtHNhx"
       }
      }
     },
     "output_type": "display_data"
    },
    {
     "data": {
      "application/vnd.jupyter.widget-view+json": {
       "model_id": "7191a0a8d6ce405ba40b80f2d07374f6",
       "version_major": 2,
       "version_minor": 0
      }
     },
     "metadata": {
      "application/vnd.jupyter.widget-view+json": {
       "datalore": {
        "widget_id": "fe79TpCIy4c3H2bbEpuZvi"
       }
      }
     },
     "output_type": "display_data"
    },
    {
     "data": {
      "application/vnd.jupyter.widget-view+json": {
       "model_id": "068987c45e81464cbf5f2d1e1af15025",
       "version_major": 2,
       "version_minor": 0
      }
     },
     "metadata": {
      "application/vnd.jupyter.widget-view+json": {
       "datalore": {
        "widget_id": "I2fHWN2zKfpCkJ5Gni9jJK"
       }
      }
     },
     "output_type": "display_data"
    }
   ],
   "source": [
    "from sentence_transformers import SentenceTransformer\n",
    "\n",
    "model = SentenceTransformer(model_name)\n",
    "\n",
    "encode = model.encode"
   ]
  },
  {
   "cell_type": "code",
   "execution_count": 6,
   "metadata": {
    "datalore": {
     "hide_input_from_viewers": true,
     "hide_output_from_viewers": true,
     "node_id": "KSv7sGnd2CsBpKnpzOCtTA",
     "type": "CODE"
    }
   },
   "outputs": [],
   "source": [
    "def run_samples():\n",
    "    embeddings = []\n",
    "    for sample in samples:\n",
    "        encoded_sample = encode(sample)\n",
    "        embeddings.append(encoded_sample)\n",
    "    return embeddings"
   ]
  },
  {
   "cell_type": "code",
   "execution_count": 7,
   "metadata": {
    "datalore": {
     "hide_input_from_viewers": true,
     "hide_output_from_viewers": true,
     "node_id": "lm03bswXe1bAK0flp0rBve",
     "type": "CODE"
    }
   },
   "outputs": [
    {
     "name": "stdout",
     "output_type": "stream",
     "text": [
      "intfloat/e5-small-v2\n",
      "Execution time: 504.52 seconds.\n",
      "1.98 samples per sec.\n",
      "\n",
      "Additional info: embeddings = 1000, embeddings dim = 384\n"
     ]
    }
   ],
   "source": [
    "import time\n",
    "\n",
    "start_time = time.time()\n",
    "\n",
    "embeddings = run_samples()\n",
    "\n",
    "end_time = time.time()\n",
    "elapsed_time = end_time - start_time\n",
    "print(f\"{model_name}\\nExecution time: {elapsed_time:.2f} seconds.\")\n",
    "print(f\"{SAMPLES_SIZE/elapsed_time:.2f} samples per sec.\")\n",
    "\n",
    "#Additional info\n",
    "print(f\"\\nAdditional info: embeddings = {len(embeddings)}, \"\n",
    "     f\"embeddings dim = {len(embeddings[0])}\")\n",
    "\n"
   ]
  },
  {
   "attachments": {},
   "cell_type": "markdown",
   "metadata": {
    "datalore": {
     "hide_input_from_viewers": true,
     "hide_output_from_viewers": true,
     "node_id": "LXcp5XtUm2es3iG6VhaOHK",
     "type": "MD"
    }
   },
   "source": [
    "Models results:"
   ]
  },
  {
   "attachments": {},
   "cell_type": "markdown",
   "metadata": {
    "datalore": {
     "hide_input_from_viewers": true,
     "hide_output_from_viewers": true,
     "node_id": "gl4eEIurH7KGYnUzgaK5EG",
     "type": "MD"
    }
   },
   "source": [
    "sentence-transformers/all-MiniLM-L6-v2\n",
    "\n",
    "Execution time: 69.14 seconds.\n",
    "\n",
    "14.46 samples per sec.\n",
    "\n",
    "Additional info: embeddings = 1000, embeddings dim = 384"
   ]
  },
  {
   "attachments": {},
   "cell_type": "markdown",
   "metadata": {
    "datalore": {
     "hide_input_from_viewers": true,
     "hide_output_from_viewers": true,
     "node_id": "wALkyhLvqJ2Q3gep6A8K9G",
     "type": "MD"
    }
   },
   "source": [
    "TaylorAI/gte-tiny\n",
    "\n",
    "Execution time: 290.09 seconds.\n",
    "                       \n",
    "3.45 samples per sec.\n",
    "\n",
    "Additional info: embeddings = 1000, embeddings dim = 384"
   ]
  },
  {
   "attachments": {},
   "cell_type": "markdown",
   "metadata": {
    "datalore": {
     "hide_input_from_viewers": true,
     "hide_output_from_viewers": true,
     "node_id": "TrjkUgQ0dpeG17CRwnhAro",
     "type": "MD"
    }
   },
   "source": [
    "BAAI/bge-small-en-v1.5\n",
    "\n",
    "Execution time: 467.23 seconds.\n",
    "\n",
    "2.14 samples per sec.\n",
    "\n",
    "Additional info: embeddings = 1000, embeddings dim = 384"
   ]
  },
  {
   "attachments": {},
   "cell_type": "markdown",
   "metadata": {
    "datalore": {
     "hide_input_from_viewers": true,
     "hide_output_from_viewers": true,
     "node_id": "IzOUAtDNnIAp1gVxqmv5Rm",
     "type": "MD"
    }
   },
   "source": [
    "thenlper/gte-small\n",
    "\n",
    "Execution time: 506.21 seconds.\n",
    "                       \n",
    "1.98 samples per sec.\n",
    "\n",
    "Additional info: embeddings = 1000, embeddings dim = 384"
   ]
  },
  {
   "attachments": {},
   "cell_type": "markdown",
   "metadata": {
    "datalore": {
     "hide_input_from_viewers": true,
     "hide_output_from_viewers": true,
     "node_id": "XqbwoCoBHX1qCLz2dLDVVn",
     "type": "MD"
    }
   },
   "source": [
    "intfloat/e5-small-v2\n",
    "\n",
    "Execution time: 504.52 seconds.\n",
    "                       \n",
    "1.98 samples per sec.\n",
    "\n",
    "Additional info: embeddings = 1000, embeddings dim = 384"
   ]
  }
 ],
 "metadata": {
  "datalore": {
   "base_environment": "default",
   "computation_mode": "JUPYTER",
   "package_manager": "pip",
   "packages": [
    {
     "name": "optimum",
     "source": "PIP"
    },
    {
     "name": "sentence-transformers",
     "source": "PIP",
     "version": "2.2.2"
    },
    {
     "name": "psutil",
     "source": "PIP",
     "version": "5.9.6"
    }
   ],
   "report_row_ids": [],
   "version": 3
  },
  "kernelspec": {
   "display_name": "Python",
   "language": "python",
   "name": "python"
  }
 },
 "nbformat": 4,
 "nbformat_minor": 4
}
