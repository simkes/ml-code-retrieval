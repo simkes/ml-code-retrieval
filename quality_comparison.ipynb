{
 "cells":[
  {
   "cell_type":"code",
   "source":[
    "model_name = \"intfloat\/e5-small-v2\"\n",
    "print_mismatches = False"
   ],
   "execution_count":1,
   "outputs":[
    
   ],
   "metadata":{
    "datalore":{
     "node_id":"NKhzmYiiMjgRHIhxPHQHCB",
     "type":"CODE",
     "hide_input_from_viewers":true,
     "hide_output_from_viewers":true
    }
   }
  },
  {
   "cell_type":"code",
   "source":[
    "from sentence_transformers import SentenceTransformer\n",
    "\n",
    "model = SentenceTransformer(model_name)\n",
    "\n",
    "encode = model.encode"
   ],
   "execution_count":2,
   "outputs":[
    
   ],
   "metadata":{
    "datalore":{
     "node_id":"Bf2pCGK9ub1P2x1L6xvNHQ",
     "type":"CODE",
     "hide_input_from_viewers":true,
     "hide_output_from_viewers":true
    }
   }
  },
  {
   "cell_type":"code",
   "source":[
    "import torch\n",
    "import torch.nn.functional as F\n",
    "import csv\n",
    "\n",
    "code_snippets = []\n",
    "nl_statements = []\n",
    "\n",
    "with open('code_snippets_set.csv', newline='') as csvfile:\n",
    "    csv_reader = csv.reader(csvfile)\n",
    "\n",
    "    for row in csv_reader:\n",
    "        if len(row) >= 2:\n",
    "            code_snippets.append(row[0])\n",
    "            nl_statements.append(row[1])\n",
    "\n",
    "assert len(code_snippets) == len(nl_statements)"
   ],
   "execution_count":3,
   "outputs":[
    
   ],
   "metadata":{
    "datalore":{
     "node_id":"OQh5ih6OnjNZoTVCP4loYZ",
     "type":"CODE",
     "hide_input_from_viewers":true,
     "hide_output_from_viewers":true
    }
   }
  },
  {
   "cell_type":"code",
   "source":[
    "def calculate_cosine_similarity(vector1, vector2):\n",
    "    tensor1 = torch.Tensor(vector1)\n",
    "    tensor2 = torch.Tensor(vector2)\n",
    "    similarity = F.cosine_similarity(tensor1, tensor2, dim=0)\n",
    "    \n",
    "    return similarity.item() \n",
    "\n",
    "def find_most_similar(code_embeddings, nl_embedding):\n",
    "    max_similarity = -1\n",
    "    most_similar_index = -1\n",
    "\n",
    "    for index, code_embedding in enumerate(code_embeddings):\n",
    "        similarity = calculate_cosine_similarity(code_embedding, nl_embedding)\n",
    "\n",
    "        if similarity > max_similarity:\n",
    "            max_similarity = similarity\n",
    "            most_similar_index = index\n",
    "\n",
    "    return max_similarity, most_similar_index"
   ],
   "execution_count":4,
   "outputs":[
    
   ],
   "metadata":{
    "datalore":{
     "node_id":"4eeuAEAPImjCwZU1OkvKig",
     "type":"CODE",
     "hide_input_from_viewers":true,
     "hide_output_from_viewers":true
    }
   }
  },
  {
   "cell_type":"code",
   "source":[
    "\n",
    "code_embeddings = [encode(code_snippet) for code_snippet in code_snippets]\n",
    "statements_size = len(nl_statements)\n",
    "\n",
    "assert len(code_snippets) == statements_size\n",
    "\n",
    "mismatches = 0\n",
    "\n",
    "wrong_answers = []\n",
    "\n",
    "for index, statement in enumerate(nl_statements):\n",
    "    nl_emb = encode(statement)\n",
    "    max_similarity, most_similar_index = find_most_similar(code_embeddings, nl_emb)\n",
    "    if most_similar_index != index :\n",
    "        mismatches += 1\n",
    "        wrong_answers.append((statement, code_snippets[index], code_snippets[most_similar_index], max_similarity))\n",
    "    \n",
    "print(f\"{model_name}\\nNumber of mismatches: {mismatches} out of {statements_size} examples.\")\n",
    "if print_mismatches:\n",
    "    print(\"Mismatches:\")\n",
    "    for statement, expected_snippet, found_snippet, similarity in wrong_answers:\n",
    "        print(f\"Statement: {statement}\\nExpected: {expected_snippet}\\n\"\n",
    "          f\"Found: {found_snippet}\\nSimilarity: {similarity}\")"
   ],
   "execution_count":5,
   "outputs":[
    {
     "name":"stdout",
     "text":[
      "intfloat\/e5-small-v2\n",
      "Number of mismatches: 49 out of 131 examples.\n"
     ],
     "output_type":"stream"
    }
   ],
   "metadata":{
    "datalore":{
     "node_id":"EQbgSH0BRsmvSl1WWcl0YW",
     "type":"CODE",
     "hide_input_from_viewers":true,
     "hide_output_from_viewers":true
    }
   }
  },
  {
   "cell_type":"markdown",
   "source":[
    "sentence-transformers\/all-MiniLM-L6-v2\n",
    "\n",
    "Number of mismatches: 37 out of 131 examples."
   ],
   "attachments":{
    
   },
   "metadata":{
    "datalore":{
     "node_id":"3cKdKdcIAaWJlcpdOAyknL",
     "type":"MD",
     "hide_input_from_viewers":true,
     "hide_output_from_viewers":true
    }
   }
  },
  {
   "cell_type":"markdown",
   "source":[
    "thenlper\/gte-small\n",
    "\n",
    "Number of mismatches: 38 out of 131 examples."
   ],
   "attachments":{
    
   },
   "metadata":{
    "datalore":{
     "node_id":"TWektrX8X1VhMRwVtVusjh",
     "type":"MD",
     "hide_input_from_viewers":true,
     "hide_output_from_viewers":true
    }
   }
  },
  {
   "cell_type":"markdown",
   "source":[
    "BAAI\/bge-small-en-v1.5\n",
    "\n",
    "Number of mismatches: 46 out of 131 examples."
   ],
   "attachments":{
    
   },
   "metadata":{
    "datalore":{
     "node_id":"jqofVJTTzcoaoE6pE0fxIP",
     "type":"MD",
     "hide_input_from_viewers":true,
     "hide_output_from_viewers":true
    }
   }
  },
  {
   "cell_type":"markdown",
   "source":[
    "intfloat\/e5-small-v2\n",
    "\n",
    "Number of mismatches: 49 out of 131 examples."
   ],
   "attachments":{
    
   },
   "metadata":{
    "datalore":{
     "node_id":"5IpQaR8fwKdMLyUa8cueVU",
     "type":"MD",
     "hide_input_from_viewers":true,
     "hide_output_from_viewers":true
    }
   }
  },
  {
   "cell_type":"markdown",
   "source":[
    "TaylorAI\/bge-micro-v2\n",
    "\n",
    "Number of mismatches: 51 out of 131 examples."
   ],
   "attachments":{
    
   },
   "metadata":{
    "datalore":{
     "node_id":"vn3FKuITtp9WfoVr0VjpYh",
     "type":"MD",
     "hide_input_from_viewers":true,
     "hide_output_from_viewers":true
    }
   }
  },
  {
   "cell_type":"markdown",
   "source":[
    "TaylorAI\/gte-tiny\n",
    "\n",
    "Number of mismatches: 52 out of 131 examples."
   ],
   "attachments":{
    
   },
   "metadata":{
    "datalore":{
     "node_id":"vDVIw8T2vtclArld2jIxn8",
     "type":"MD",
     "hide_input_from_viewers":true,
     "hide_output_from_viewers":true
    }
   }
  }
 ],
 "metadata":{
  "kernelspec":{
   "display_name":"Python",
   "language":"python",
   "name":"python"
  },
  "datalore":{
   "computation_mode":"JUPYTER",
   "package_manager":"pip",
   "base_environment":"default",
   "packages":[
    {
     "name":"sentence-transformers",
     "version":"2.2.2",
     "source":"PIP"
    },
    {
     "name":"transformers",
     "version":"4.34.0",
     "source":"PIP"
    }
   ],
   "report_row_ids":[
    
   ],
   "version":3
  }
 },
 "nbformat":4,
 "nbformat_minor":4
}